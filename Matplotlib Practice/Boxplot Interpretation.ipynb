{
 "cells": [
  {
   "cell_type": "markdown",
   "metadata": {},
   "source": [
    "# Boxplot\n",
    "# Definition\n",
    "\n",
    "   Boxplot also called box-and-whisker plot is a method of graphically depicting groups of numerical data through their quartiles. It displays the five number summary of a set of data. It is a way of summarizing a set of data measured on an interval scale. It shows where the highest values, lowest values and most values lies."
   ]
  },
  {
   "cell_type": "code",
   "execution_count": 30,
   "metadata": {},
   "outputs": [],
   "source": [
    "import matplotlib.pyplot as plt"
   ]
  },
  {
   "cell_type": "code",
   "execution_count": 31,
   "metadata": {},
   "outputs": [],
   "source": [
    "import numpy as np"
   ]
  },
  {
   "cell_type": "code",
   "execution_count": 47,
   "metadata": {},
   "outputs": [],
   "source": [
    "data = np.random.randint(2,50,25)"
   ]
  },
  {
   "cell_type": "code",
   "execution_count": 48,
   "metadata": {},
   "outputs": [
    {
     "data": {
      "text/plain": [
       "array([13, 28, 20, 10, 37, 49,  3, 27, 12, 19, 17, 23,  3, 49, 43, 10, 13,\n",
       "       35, 14,  8,  7,  3, 36, 49, 15])"
      ]
     },
     "execution_count": 48,
     "metadata": {},
     "output_type": "execute_result"
    }
   ],
   "source": [
    "data"
   ]
  },
  {
   "cell_type": "code",
   "execution_count": 56,
   "metadata": {},
   "outputs": [
    {
     "data": {
      "text/plain": [
       "array([ 3,  3,  3,  7,  8, 10, 10, 12, 13, 13, 14, 15, 17, 19, 20, 23, 27,\n",
       "       28, 35, 36, 37, 43, 49, 49, 49])"
      ]
     },
     "execution_count": 56,
     "metadata": {},
     "output_type": "execute_result"
    }
   ],
   "source": [
    "np.sort(data)"
   ]
  },
  {
   "cell_type": "code",
   "execution_count": 54,
   "metadata": {},
   "outputs": [
    {
     "data": {
      "text/plain": [
       "{'whiskers': [<matplotlib.lines.Line2D at 0x26d4816a550>,\n",
       "  <matplotlib.lines.Line2D at 0x26d4816a8b0>],\n",
       " 'caps': [<matplotlib.lines.Line2D at 0x26d4816ac10>,\n",
       "  <matplotlib.lines.Line2D at 0x26d4816af70>],\n",
       " 'boxes': [<matplotlib.lines.Line2D at 0x26d4816a1f0>],\n",
       " 'medians': [<matplotlib.lines.Line2D at 0x26d48174310>],\n",
       " 'fliers': [<matplotlib.lines.Line2D at 0x26d48174610>],\n",
       " 'means': []}"
      ]
     },
     "execution_count": 54,
     "metadata": {},
     "output_type": "execute_result"
    },
    {
     "data": {
      "image/png": "[encoded data removed]",
      "text/plain": [
       "<Figure size 432x288 with 1 Axes>"
      ]
     },
     "metadata": {
      "needs_background": "light"
     },
     "output_type": "display_data"
    }
   ],
   "source": [
    "plt.boxplot(data)"
   ]
  },
  {
   "cell_type": "markdown",
   "metadata": {},
   "source": [
    "# Analysis of the above plot\n",
    "\n",
    "According to the above data. we have 25 numbers between 2 and 50. the numbers are first arranged numerically from lowest to the highest. that is we have;\n",
    "       3, 3, 3, 7, 8, 10, 10, 12, 13, 13, 14, 15, 17, 19, 20, 23, 27, 28, 35, 36, 37, 43, 49, 49, 49\n",
    "So these numbers are then divided into five sections namely:\n",
    "\n",
    "# second quartile or median(Q2)\n",
    "This is the median of the data set after it has been arranged numerically from lowest to the highest. In the above boxplot the median (Q2) is orange line in the box, which is 17. \n",
    "                Q2 = 17 (i.e the middle number of the data set)\n",
    "# first/lower quartile (Q1)\n",
    "This is the median of the lower half of the data set excluding the median(Q2). In this case, \n",
    "             3, 3, 3, 7, 8, 10, 10, 12, 13, 13, 14, 15\n",
    "             Q1 = (10 + 10)/2 = 10\n",
    "             \n",
    "# third/upper quartile(Q3)\n",
    "This is the median of the upper half of the data set excluding the median (Q2). In this case\n",
    "             19, 20, 23, 27, 28, 35, 36, 37, 43, 49, 49, 49\n",
    "            Q3 = (35 + 36)/2 = 35.5\n",
    "\n",
    "# minimum (min)\n",
    "this is the minimun number in the data set\n",
    "            min = 3\n",
    "# maximum(max)\n",
    "This is the maximum number in the data set\n",
    "            max = 49"
   ]
  },
  {
   "attachments": {
    "download%20%281%29.png": {
     "image/png": "[encoded data removed]"
    }
   },
   "cell_type": "markdown",
   "metadata": {},
   "source": [
    "![download%20%281%29.png](attachment:download%20%281%29.png)"
   ]
  },
  {
   "cell_type": "markdown",
   "metadata": {},
   "source": [
    "# OUTLIERS\n",
    "We also have what we call \"Outliers\". An Outlier is an observation that is numerically distant from the rest of the data. When reviewing a boxplot, an outlier is defined as a data point that is located outside the whiskers of the boxplot.\n",
    "To determine the range of values in which the outliers can be. this is done using the formula.\n",
    "\n",
    "                [Q1 - 1.5IQR, Q3 + 1.5IQR]   \n",
    "             Where IQR (Interquartile Range) = Q3 - Q1 \n",
    "             \n",
    "             Let's take a look at the example below"
   ]
  },
  {
   "cell_type": "code",
   "execution_count": 84,
   "metadata": {},
   "outputs": [],
   "source": [
    "data1 = np.array([18,34,76,29,15,41,46,25,54,38,20,32,43,22])"
   ]
  },
  {
   "cell_type": "code",
   "execution_count": 89,
   "metadata": {},
   "outputs": [
    {
     "data": {
      "text/plain": [
       "array([15, 18, 20, 22, 25, 29, 32, 34, 38, 41, 43, 46, 54, 76])"
      ]
     },
     "execution_count": 89,
     "metadata": {},
     "output_type": "execute_result"
    }
   ],
   "source": [
    "np.sort(data1)"
   ]
  },
  {
   "cell_type": "markdown",
   "metadata": {},
   "source": [
    "# Analysis\n",
    "This is the data set in numerical order\n",
    "\n",
    "        15 18 20 22 25 29 32 | 34 38 41 43 46 54 76\n",
    "                Q2 = (32 + 34)/2 \n",
    "                Q2 = 33\n",
    "                \n",
    "        Q1 = 22  and  Q3 = 43\n",
    "        IQR = Q3 - Q1\n",
    "            = 43 - 22\n",
    "            = 21\n",
    "# To check for outliers\n",
    "\n",
    "        =  [Q1 - 1.5(IQR), Q3 + 1.5(IQR)]\n",
    "        =  [22 - 1.5(21), 43 + 1.5(21)]\n",
    "        =  [-9.5, 74.5]\n",
    "\n",
    "So any number in the data set that is not within the range of -9.5 and 74.5 is an outlier. From the above data set, it implies that 76 is the only outlier. So 76 will not be part of the box and whisker plot. it will be seperated from the plot.\n",
    "\n",
    "Lets create the boxplot of the data set for proper clarification.\n",
    "         "
   ]
  },
  {
   "cell_type": "code",
   "execution_count": 90,
   "metadata": {},
   "outputs": [
    {
     "data": {
      "text/plain": [
       "{'whiskers': [<matplotlib.lines.Line2D at 0x26d49582250>,\n",
       "  <matplotlib.lines.Line2D at 0x26d495825b0>],\n",
       " 'caps': [<matplotlib.lines.Line2D at 0x26d49582910>,\n",
       "  <matplotlib.lines.Line2D at 0x26d49582c70>],\n",
       " 'boxes': [<matplotlib.lines.Line2D at 0x26d49576eb0>],\n",
       " 'medians': [<matplotlib.lines.Line2D at 0x26d49582fd0>],\n",
       " 'fliers': [<matplotlib.lines.Line2D at 0x26d4958e310>],\n",
       " 'means': []}"
      ]
     },
     "execution_count": 90,
     "metadata": {},
     "output_type": "execute_result"
    },
    {
     "data": {
      "image/png": "[encoded data removed]",
      "text/plain": [
       "<Figure size 432x288 with 1 Axes>"
      ]
     },
     "metadata": {
      "needs_background": "light"
     },
     "output_type": "display_data"
    }
   ],
   "source": [
    "plt.boxplot(data1)"
   ]
  },
  {
   "attachments": {
    "download%20%282%29.png": {
     "image/png": "[encoded data removed]"
    }
   },
   "cell_type": "markdown",
   "metadata": {},
   "source": [
    "![download%20%282%29.png](attachment:download%20%282%29.png)"
   ]
  },
  {
   "cell_type": "markdown",
   "metadata": {},
   "source": [
    "# Hope It was explanatory?"
   ]
  }
 ],
 "metadata": {
  "kernelspec": {
   "display_name": "Python 3",
   "language": "python",
   "name": "python3"
  },
  "language_info": {
   "codemirror_mode": {
    "name": "ipython",
    "version": 3
   },
   "file_extension": ".py",
   "mimetype": "text/x-python",
   "name": "python",
   "nbconvert_exporter": "python",
   "pygments_lexer": "ipython3",
   "version": "3.8.3"
  }
 },
 "nbformat": 4,
 "nbformat_minor": 4
}
